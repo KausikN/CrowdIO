{
  "nbformat": 4,
  "nbformat_minor": 0,
  "metadata": {
    "colab": {
      "name": "CrowdIOPredictor.ipynb",
      "provenance": [],
      "collapsed_sections": [],
      "toc_visible": true,
      "machine_shape": "hm"
    },
    "kernelspec": {
      "name": "python3",
      "display_name": "Python 3"
    },
    "accelerator": "GPU"
  },
  "cells": [
    {
      "cell_type": "markdown",
      "metadata": {
        "id": "PLEguPuh0Pcw",
        "colab_type": "text"
      },
      "source": [
        "# CrowdIO"
      ]
    },
    {
      "cell_type": "markdown",
      "metadata": {
        "id": "yxBkJnhs0X93",
        "colab_type": "text"
      },
      "source": [
        "## Predictor using Keras"
      ]
    },
    {
      "cell_type": "markdown",
      "metadata": {
        "id": "_F1EEOW70nmu",
        "colab_type": "text"
      },
      "source": [
        "### Imports"
      ]
    },
    {
      "cell_type": "code",
      "metadata": {
        "id": "h4jYH1TM0q_7",
        "colab_type": "code",
        "outputId": "62e03941-f58a-4ba5-97bb-118723a7c5ab",
        "colab": {
          "base_uri": "https://localhost:8080/",
          "height": 96
        }
      },
      "source": [
        "import keras\n",
        "from keras.datasets import mnist\n",
        "from keras.models import Sequential\n",
        "from keras.layers import Dense, Dropout, Flatten\n",
        "from keras.layers import Conv2D, MaxPooling2D\n",
        "from keras import backend as K\n",
        "\n",
        "from keras.models import load_model\n",
        "import cv2\n",
        "from sklearn.metrics import accuracy_score, mean_squared_error, log_loss\n",
        "\n",
        "import numpy as np\n",
        "import os\n",
        "import pandas\n",
        "import random\n",
        "import tensorflow as tf\n",
        "\n",
        "# Instantiates the device to be used as GPU/CPU based on availability\n",
        "print(tf.test.gpu_device_name())\n",
        "\n",
        "# !mkdir TrainedModels\n",
        "# !wget https://drive.google.com/open?id=1hw2ctzIj0zqUmOuroEafv8jJgUlnrCGj"
      ],
      "execution_count": 1,
      "outputs": [
        {
          "output_type": "stream",
          "text": [
            "Using TensorFlow backend.\n"
          ],
          "name": "stderr"
        },
        {
          "output_type": "display_data",
          "data": {
            "text/html": [
              "<p style=\"color: red;\">\n",
              "The default version of TensorFlow in Colab will soon switch to TensorFlow 2.x.<br>\n",
              "We recommend you <a href=\"https://www.tensorflow.org/guide/migrate\" target=\"_blank\">upgrade</a> now \n",
              "or ensure your notebook will continue to use TensorFlow 1.x via the <code>%tensorflow_version 1.x</code> magic:\n",
              "<a href=\"https://colab.research.google.com/notebooks/tensorflow_version.ipynb\" target=\"_blank\">more info</a>.</p>\n"
            ],
            "text/plain": [
              "<IPython.core.display.HTML object>"
            ]
          },
          "metadata": {
            "tags": []
          }
        },
        {
          "output_type": "stream",
          "text": [
            "/device:GPU:0\n"
          ],
          "name": "stdout"
        }
      ]
    },
    {
      "cell_type": "markdown",
      "metadata": {
        "id": "GgvCzwizGdsO",
        "colab_type": "text"
      },
      "source": [
        "## Set Parameters"
      ]
    },
    {
      "cell_type": "code",
      "metadata": {
        "id": "7zjf6CiRGk9x",
        "colab_type": "code",
        "colab": {}
      },
      "source": [
        "# Parameters\n",
        "dataset_path = '/content/data.csv'\n",
        "model_path = '/content/trainedModel.h5'\n",
        "# Parameters"
      ],
      "execution_count": 0,
      "outputs": []
    },
    {
      "cell_type": "markdown",
      "metadata": {
        "id": "jGadettFRsWe",
        "colab_type": "text"
      },
      "source": [
        "## Generate Dataset"
      ]
    },
    {
      "cell_type": "code",
      "metadata": {
        "id": "tEaLmSYoTVvf",
        "colab_type": "code",
        "colab": {}
      },
      "source": [
        "def getNextDate(date):\n",
        "    # Hour Overflow\n",
        "    date[4] += 1\n",
        "    if(date[4] > 24):\n",
        "        date[4] = 0\n",
        "        date[0] += 1\n",
        "    # Hour Overflow\n",
        "    # Day Overflow\n",
        "    if(date[0] > 28 and date[0] <= 30 and date[1] in [2]):\n",
        "        if(date[2] % 4 == 0 and date[0] > 29):\n",
        "            date[0] = 1\n",
        "            date[1] += 1\n",
        "        elif(not (date % 4 == 0)):\n",
        "            date[0] = 0\n",
        "            date[1] += 1\n",
        "    elif(date[0] > 31 and date[1] in [1,3,5,7,8,10,12]):\n",
        "        date[0] = 0\n",
        "        date[1] += 1\n",
        "    elif(date[0] > 30 and date[1] in [4,6,9,11]):\n",
        "        date[0] = 0\n",
        "        date[1] += 1\n",
        "    # Day Overflow\n",
        "    # Month Overflow\n",
        "    if(date[1] > 12):\n",
        "        date[1] = 0\n",
        "        date[2] += 1\n",
        "    # Month Overflow\n",
        "\n",
        "    return date\n",
        "\n",
        "def getRandom(start, end, div=1):\n",
        "    return random.randint(start,end+1)/div\n",
        "\n",
        "def getCrowdSize(meanCrowdSize, maxDeviation, festivalMaxChange, FesticalFactor):\n",
        "    crowdsize = meanCrowdSize + getRandom(-1*maxDeviation, maxDeviation)\n",
        "    crowdsize += int(FesticalFactor*festivalMaxChange)\n",
        "    return crowdsize\n",
        "\n",
        "def getMaleRatio(minMaleRatio, maxMaleRatio, festFactor):\n",
        "    return minMaleRatio + (maxMaleRatio - minMaleRatio)*festFactor"
      ],
      "execution_count": 0,
      "outputs": []
    },
    {
      "cell_type": "code",
      "metadata": {
        "id": "xb5gQ-7ARrpZ",
        "colab_type": "code",
        "colab": {}
      },
      "source": [
        "# Params\n",
        "no_of_rows = 1000\n",
        "input_fields = ['FestivalFactor']   \n",
        "output_fields = ['CrowdSize', 'MaleRatio', 'FemaleRatio']\n",
        "\n",
        "startDate = ['1', '1', '2019', '1']  # 'Day', 'Month', 'Year', 'Hour'\n",
        "\n",
        "meanCrowdSize = 50\n",
        "maxDeviation = 25\n",
        "festivalMaxChange = 50\n",
        "\n",
        "minMaleRatio = 0.2    # For FestivalFactor = 0\n",
        "maxMaleRatio= 0.5    # For FestivalFactor = 1\n",
        "# Params"
      ],
      "execution_count": 0,
      "outputs": []
    },
    {
      "cell_type": "code",
      "metadata": {
        "id": "e5vIL513Svja",
        "colab_type": "code",
        "colab": {}
      },
      "source": [
        "genData = {}\n",
        "curDate = startDate\n",
        "\n",
        "# Init Arrays\n",
        "genData['Day'] = []\n",
        "genData['Month'] = []\n",
        "genData['Year'] = []\n",
        "genData['Hour'] = []\n",
        "for field in input_fields:\n",
        "    genData[field] = []\n",
        "for field in output_fields:\n",
        "    genData[field] = []\n",
        "\n",
        "# Fill Arrays\n",
        "for row in range(no_of_rows):\n",
        "    genData['Day'].append(curDate[0])\n",
        "    genData['Month'].append(curDate[1])\n",
        "    genData['Year'].append(curDate[2])\n",
        "    genData['Hour'].append(curDate[4])\n",
        "\n",
        "    festFactor = getRandom(0, 100, 100)\n",
        "    genData['FestivalFactor'].append(festFactor)\n",
        "\n",
        "    crowdsize = getCrowdSize(meanCrowdSize, maxDeviation, festivalMaxChange, festFactor)\n",
        "    genData['CrowdSize'].append(crowdsize)\n",
        "\n",
        "    maleratio = getMaleRatio(minMaleRatio, maxMaleRatio, festFactor)\n",
        "    femaleratio = 1 - maleratio\n",
        "\n",
        "    print(row, \": CS=\", crowdsize, \"MR=\", maleratio, \"FR=\", femaleratio)\n",
        "\n",
        "    curDate = getNextDate(curDate)"
      ],
      "execution_count": 0,
      "outputs": []
    },
    {
      "cell_type": "markdown",
      "metadata": {
        "id": "11lQ0dy4HZKY",
        "colab_type": "text"
      },
      "source": [
        "## Load Dataset"
      ]
    },
    {
      "cell_type": "code",
      "metadata": {
        "id": "P1QOeu5JHas9",
        "colab_type": "code",
        "outputId": "9f50a574-d9b2-4110-adf8-f4a19823192f",
        "colab": {
          "base_uri": "https://localhost:8080/",
          "height": 67
        }
      },
      "source": [
        "print(\"Started Loading Data\")\n",
        "# (x_train, y_train), (x_test, y_test) = mnist.load_data()\n",
        "data = pandas.read_csv(dataset_path).to_numpy()\n",
        "print(data.shape)\n",
        "\n",
        "print(\"Finished Loading Data\")"
      ],
      "execution_count": 7,
      "outputs": [
        {
          "output_type": "stream",
          "text": [
            "Started Loading Data\n",
            "(100, 6)\n",
            "Finished Loading Data\n"
          ],
          "name": "stdout"
        }
      ]
    },
    {
      "cell_type": "markdown",
      "metadata": {
        "id": "wuk4KOLAHj0b",
        "colab_type": "text"
      },
      "source": [
        "## Preprocessing"
      ]
    },
    {
      "cell_type": "code",
      "metadata": {
        "id": "mQZS8fn3HlHD",
        "colab_type": "code",
        "colab": {}
      },
      "source": [
        ""
      ],
      "execution_count": 0,
      "outputs": []
    },
    {
      "cell_type": "markdown",
      "metadata": {
        "id": "YWaf6Nl-IxT0",
        "colab_type": "text"
      },
      "source": [
        "## Build Model Using Keras"
      ]
    },
    {
      "cell_type": "code",
      "metadata": {
        "id": "rUY-EAKi4eZD",
        "colab_type": "code",
        "colab": {}
      },
      "source": [
        "# Model Parameters\n",
        "lr = 0.0001\n",
        "rho = 0.9\n",
        "epsilon = None\n",
        "decay = 0.0\n",
        "activation = 'tanh'\n",
        "\n",
        "loss = keras.losses.mean_squared_error\n",
        "optimizer = keras.optimizers.RMSprop(lr=lr, rho=rho, epsilon=epsilon, decay=decay)\n",
        "metrics = ['accuracy']\n",
        "\n",
        "verbose=1\n",
        "epochs=10\n",
        "batch_size=256\n",
        "# Model Parameters"
      ],
      "execution_count": 0,
      "outputs": []
    },
    {
      "cell_type": "code",
      "metadata": {
        "colab_type": "code",
        "id": "dMImC2PzJbM4",
        "colab": {}
      },
      "source": [
        "# Check if model doesnt exist\n",
        "if (not os.path.exists(model_path + \".h5\")):\n",
        "    print(\"Started building Model\")\n",
        "    model = Sequential()\n",
        "    model.add(Dense(img_rows*img_cols, activation=activation, input_dim=img_rows*img_cols))\n",
        "    model.add(Dense(256, activation=activation))\n",
        "    model.add(Dense(128, activation=activation))\n",
        "    model.add(Dense(256, activation=activation))\n",
        "    model.add(Dense(img_rows*img_cols, activation=activation))\n",
        "\n",
        "    model.compile(loss=loss,\n",
        "                    optimizer=optimizer,\n",
        "                    metrics = metrics)\n",
        "    print(\"Finished building Model\")\n",
        "\n",
        "    print(\"Started Fitting Model\")\n",
        "    # As Encoder, Y_train is same as X_train as we measure how the reconstructed image matches with original\n",
        "    model.fit(x_train,x_train,verbose=verbose,epochs=epochs,batch_size=batch_size) \n",
        "    print(\"Started Fitting Model\")\n",
        "    print(\"Saving Model...\")\n",
        "    model.save(modelPath)\n",
        "    print(\"Saving Model Done\")\n",
        "    #del model"
      ],
      "execution_count": 0,
      "outputs": []
    },
    {
      "cell_type": "markdown",
      "metadata": {
        "id": "OaxJRhmCH9Xn",
        "colab_type": "text"
      },
      "source": [
        "## Load Model"
      ]
    },
    {
      "cell_type": "code",
      "metadata": {
        "id": "SaK6hn1-H-bs",
        "colab_type": "code",
        "colab": {}
      },
      "source": [
        "print(\"Loading Model...\")\n",
        "model = load_model(model_path)\n",
        "print(\"Loading Model Done\")"
      ],
      "execution_count": 0,
      "outputs": []
    },
    {
      "cell_type": "markdown",
      "metadata": {
        "id": "pOM-YQtLH-5l",
        "colab_type": "text"
      },
      "source": [
        "## Test Predict"
      ]
    },
    {
      "cell_type": "code",
      "metadata": {
        "id": "ITUEPH1SH__j",
        "colab_type": "code",
        "colab": {}
      },
      "source": [
        "# Threshold Parameter\n",
        "threshold = 127\n",
        "# Threshold Parameter\n",
        "\n",
        "print(\"Started Prediction on Test Data\")\n",
        "\n",
        "\"\"\" # For user input images\n",
        "test_img_path = input(\"Enter test image path: \")\n",
        "test_imgs = cv2.imread(test_img_path)\n",
        "if (test_imgs.ndim == 3):\n",
        "    test_imgs = cv2.cvtColor(test_img, cv2.COLOR_BGR2GRAY)\n",
        "test_imgs = cv2.threshold(test_img, threshold, 255, cv2.THRESH_BINARY)[1]\n",
        "test = test_img.reshape(1, img_cols*img_rows) # x_train[1].reshape(1, img_cols*img_rows)\n",
        "y_test = model.predict(test)\n",
        "\"\"\"\n",
        "\n",
        "# For test input images\n",
        "y_test = []\n",
        "test = []\n",
        "compressed_rep_test = []\n",
        "index = 0\n",
        "for test_img in x_test:\n",
        "    test.append(test_img.reshape(1, img_cols*img_rows)) # x_train[1].reshape(1, img_cols*img_rows)\n",
        "\n",
        "    y_test.append(model.predict(test[index]))\n",
        "        \n",
        "    if (index % 1000 == 0):\n",
        "        print(\"Predicted \", index+1, \" / \", x_test.shape[0])\n",
        "    index += 1\n",
        "#\n",
        "test = np.array(test)\n",
        "compressed_rep_test = np.array(compressed_rep_test)\n",
        "\n",
        "print(\"Finished Prediction on Test Data\")"
      ],
      "execution_count": 0,
      "outputs": []
    },
    {
      "cell_type": "markdown",
      "metadata": {
        "id": "5ZgWhqpNIUg8",
        "colab_type": "text"
      },
      "source": [
        "## Postprocessing"
      ]
    },
    {
      "cell_type": "code",
      "metadata": {
        "id": "1cv5cSonIVtR",
        "colab_type": "code",
        "colab": {}
      },
      "source": [
        ""
      ],
      "execution_count": 0,
      "outputs": []
    },
    {
      "cell_type": "markdown",
      "metadata": {
        "id": "I5i2cXHdIWkh",
        "colab_type": "text"
      },
      "source": [
        "## Display Outputs"
      ]
    },
    {
      "cell_type": "code",
      "metadata": {
        "id": "XJMKn0sBYSZp",
        "colab_type": "code",
        "colab": {}
      },
      "source": [
        ""
      ],
      "execution_count": 0,
      "outputs": []
    }
  ]
}